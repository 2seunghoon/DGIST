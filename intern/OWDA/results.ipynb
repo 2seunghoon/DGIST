{
 "cells": [
  {
   "cell_type": "code",
   "execution_count": 302,
   "metadata": {},
   "outputs": [],
   "source": [
    "from collections import defaultdict\n",
    "import pprint\n",
    "pp = pprint.PrettyPrinter(indent=4)"
   ]
  },
  {
   "cell_type": "code",
   "execution_count": 354,
   "metadata": {},
   "outputs": [],
   "source": [
    "with open('./checkpoint/donghyeon_C_11/donghyeon_C_11.log', 'r') as file:\n",
    "    lines = file.read().splitlines()"
   ]
  },
  {
   "cell_type": "code",
   "execution_count": 355,
   "metadata": {},
   "outputs": [],
   "source": [
    "start = \"mIoU: \"\n",
    "end = \"%\"\n",
    "results = {}\n",
    "for idx, line in enumerate(lines):\n",
    "    if \"Step\" in line:\n",
    "        step = int(line.split(\"Step: \")[1].split(\" |\")[0])\n",
    "        mIoU = line.split(start)[1].split(end)[0]\n",
    "        results[step] = {\n",
    "            \"mIoU\" : float(mIoU),\n",
    "            \"objects\" : {},\n",
    "        }\n",
    "        objects_names_list = lines[idx+2].split(\"|\")[1:-1]\n",
    "        objects_scores_list = lines[idx+4].split(\"|\")[1:-1]\n",
    "        for obj_name, obj_score in zip(objects_names_list, objects_scores_list):\n",
    "            name = obj_name.replace(\" \", \"\")\n",
    "            score = obj_score.replace(\" \", \"\")\n",
    "            results[step][\"objects\"][name] = float(score)\n",
    "        "
   ]
  },
  {
   "cell_type": "code",
   "execution_count": 361,
   "metadata": {},
   "outputs": [
    {
     "name": "stdout",
     "output_type": "stream",
     "text": [
      "1000\n",
      "30.881\n",
      "2000\n",
      "33.523\n",
      "3000\n",
      "33.974\n",
      "4000\n",
      "34.953\n",
      "5000\n",
      "35.728\n",
      "6000\n",
      "34.817\n",
      "7000\n",
      "34.77\n",
      "8000\n",
      "34.177\n",
      "9000\n",
      "32.103\n",
      "10000\n",
      "31.165\n"
     ]
    }
   ],
   "source": [
    "for r in results:\n",
    "    # print(r)\n",
    "    if r%1000==0:\n",
    "        print(r)\n",
    "        print(results[r]['mIoU'])"
   ]
  },
  {
   "cell_type": "code",
   "execution_count": 330,
   "metadata": {},
   "outputs": [],
   "source": [
    "MEAN_MIOU = 0\n",
    "total_miou = 0\n",
    "check_count = 0\n",
    "MEAN_SCORE_OBJECT = defaultdict(int)\n",
    "for result in results:\n",
    "    if 8100 <= result <= 9000:\n",
    "        check_count += 1\n",
    "        total_miou += results[result][\"mIoU\"]\n",
    "\n",
    "        for obj in results[result][\"objects\"]:\n",
    "            name = obj\n",
    "            score = results[result][\"objects\"][obj]\n",
    "            MEAN_SCORE_OBJECT[obj] += score\n",
    "\n",
    "if check_count > 20:\n",
    "    print(\"ERRRRRRRRRRRRRRRRRROR\")\n",
    "MEAN_MIOU = total_miou/check_count\n",
    "for obj in MEAN_SCORE_OBJECT:\n",
    "    MEAN_SCORE_OBJECT[obj] /= check_count\n"
   ]
  },
  {
   "cell_type": "code",
   "execution_count": 331,
   "metadata": {},
   "outputs": [
    {
     "name": "stdout",
     "output_type": "stream",
     "text": [
      "[28.956, 29.854, 30.225, 30.233, 30.304, 30.349, 30.429, 30.492, 30.849, 30.881, 30.993, 31.05, 31.107, 31.165, 31.347, 31.518, 31.813, 31.842, 31.945, 31.97, 32.103, 32.136, 32.177, 32.299, 32.446, 32.471, 32.571, 32.586, 32.731, 32.875, 32.994, 33.007, 33.088, 33.239, 33.322, 33.503, 33.508, 33.523, 33.528, 33.55, 33.638, 33.66, 33.668, 33.675, 33.711, 33.714, 33.751, 33.774, 33.875, 33.914, 33.974, 33.98, 34.082, 34.099, 34.145, 34.177, 34.376, 34.377, 34.41, 34.429, 34.452, 34.455, 34.584, 34.621, 34.626, 34.679, 34.68, 34.697, 34.699, 34.77, 34.817, 34.843, 34.913, 34.953, 34.968, 35.11, 35.159, 35.265, 35.321, 35.428, 35.429, 35.466, 35.484, 35.505, 35.551, 35.572, 35.602, 35.663, 35.728, 35.763, 35.867, 35.901, 35.95, 36.424, 36.523, 36.716, 36.901, 37.029, 37.158, 38.03]\n"
     ]
    }
   ],
   "source": [
    "a = []\n",
    "for r in results:\n",
    "    a.append(results[r]['mIoU'])\n",
    "a = sorted(a)\n",
    "print(a)"
   ]
  },
  {
   "cell_type": "code",
   "execution_count": 350,
   "metadata": {},
   "outputs": [
    {
     "name": "stdout",
     "output_type": "stream",
     "text": [
      "{'mIoU': 36.424, 'objects': {'road': 82.8, 'sidewalk': 28.0, 'building': 77.0, 'wall': 23.5, 'fence': 18.5, 'pole': 14.4, 'trafflight': 18.1, 'traffsign': 8.2, 'vegetation': 78.2, 'terrain': 30.2, 'sky': 81.5, 'person': 44.9, 'rider': 0.8, 'car': 66.6, 'truck': 15.0, 'bus': 40.7, 'train': 9.0, 'motorcycle': 20.6, 'bicycle': 33.9}}\n",
      "5100\n"
     ]
    }
   ],
   "source": [
    "for r in results:\n",
    "    if results[r]['mIoU'] == 36.424:\n",
    "        print(results[r])\n",
    "        print(r)"
   ]
  },
  {
   "cell_type": "code",
   "execution_count": 353,
   "metadata": {},
   "outputs": [
    {
     "data": {
      "text/plain": [
       "35.9418"
      ]
     },
     "execution_count": 353,
     "metadata": {},
     "output_type": "execute_result"
    }
   ],
   "source": [
    "sum(a[-25:])/25"
   ]
  },
  {
   "cell_type": "code",
   "execution_count": 158,
   "metadata": {},
   "outputs": [
    {
     "data": {
      "text/plain": [
       "35.751999999999995"
      ]
     },
     "execution_count": 158,
     "metadata": {},
     "output_type": "execute_result"
    }
   ],
   "source": [
    "MEAN_MIOU"
   ]
  },
  {
   "cell_type": "code",
   "execution_count": 159,
   "metadata": {},
   "outputs": [
    {
     "data": {
      "text/plain": [
       "defaultdict(int,\n",
       "            {'road': 76.52000000000001,\n",
       "             'sidewalk': 24.2,\n",
       "             'building': 77.22,\n",
       "             'wall': 22.020000000000003,\n",
       "             'fence': 13.670000000000002,\n",
       "             'pole': 17.459999999999997,\n",
       "             'trafflight': 18.229999999999997,\n",
       "             'traffsign': 8.780000000000001,\n",
       "             'vegetation': 78.60000000000001,\n",
       "             'terrain': 30.25,\n",
       "             'sky': 81.69000000000001,\n",
       "             'person': 42.010000000000005,\n",
       "             'rider': 0.8,\n",
       "             'car': 73.74,\n",
       "             'truck': 26.720000000000006,\n",
       "             'bus': 36.39,\n",
       "             'train': 9.16,\n",
       "             'motorcycle': 15.920000000000002,\n",
       "             'bicycle': 25.889999999999997})"
      ]
     },
     "execution_count": 159,
     "metadata": {},
     "output_type": "execute_result"
    }
   ],
   "source": [
    "MEAN_SCORE_OBJECT"
   ]
  },
  {
   "cell_type": "code",
   "execution_count": 129,
   "metadata": {},
   "outputs": [
    {
     "name": "stdout",
     "output_type": "stream",
     "text": [
      "8300\n"
     ]
    }
   ],
   "source": [
    "for r in results:\n",
    "    if results[r]['objects']['train'] >10:\n",
    "        print(r)"
   ]
  },
  {
   "cell_type": "code",
   "execution_count": 77,
   "metadata": {},
   "outputs": [
    {
     "data": {
      "text/plain": [
       "defaultdict(int,\n",
       "            {'road': 78.05999999999999,\n",
       "             'sidewalk': 24.8,\n",
       "             'building': 77.39,\n",
       "             'wall': 21.699999999999996,\n",
       "             'fence': 14.11,\n",
       "             'pole': 16.01,\n",
       "             'trafflight': 19.110000000000003,\n",
       "             'traffsign': 7.9,\n",
       "             'vegetation': 78.02000000000001,\n",
       "             'terrain': 32.31999999999999,\n",
       "             'sky': 81.79,\n",
       "             'person': 42.34,\n",
       "             'rider': 1.52,\n",
       "             'car': 69.58000000000001,\n",
       "             'truck': 18.859999999999996,\n",
       "             'bus': 35.03,\n",
       "             'train': 4.7,\n",
       "             'motorcycle': 15.6,\n",
       "             'bicycle': 24.52})"
      ]
     },
     "execution_count": 77,
     "metadata": {},
     "output_type": "execute_result"
    }
   ],
   "source": [
    "MEAN_SCORE_OBJECT"
   ]
  },
  {
   "cell_type": "markdown",
   "metadata": {},
   "source": []
  }
 ],
 "metadata": {
  "kernelspec": {
   "display_name": "Python 3.8.13 ('DRANet')",
   "language": "python",
   "name": "python3"
  },
  "language_info": {
   "codemirror_mode": {
    "name": "ipython",
    "version": 3
   },
   "file_extension": ".py",
   "mimetype": "text/x-python",
   "name": "python",
   "nbconvert_exporter": "python",
   "pygments_lexer": "ipython3",
   "version": "3.8.13"
  },
  "orig_nbformat": 4,
  "vscode": {
   "interpreter": {
    "hash": "14783ba549b05f1864de024e76bedb1d3d5a0064109376e663ab207a106c12b1"
   }
  }
 },
 "nbformat": 4,
 "nbformat_minor": 2
}
